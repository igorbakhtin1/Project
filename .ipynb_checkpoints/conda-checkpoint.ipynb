{
 "cells": [
  {
   "cell_type": "code",
   "execution_count": 3,
   "metadata": {},
   "outputs": [],
   "source": [
    "import geopandas as gpd\n",
    "import pandas as pd\n",
    "import numpy as np\n",
    "import json\n",
    "import h3\n",
    "import folium\n",
    "import osmnx as ox\n",
    "from shapely import wkt\n",
    "from folium.plugins import HeatMap\n",
    "from shapely.geometry import Polygon"
   ]
  },
  {
   "cell_type": "code",
   "execution_count": null,
   "metadata": {
    "pycharm": {
     "name": "#%%\n"
    }
   },
   "outputs": [],
   "source": [
    "def visualize_polygons(geometry):\n",
    "    \n",
    "    lats, lons = get_lat_lon(geometry)\n",
    "    \n",
    "    m = folium.Map(location=[sum(lats)/len(lats), sum(lons)/len(lons)], zoom_start=13, tiles='cartodbpositron')\n",
    "    \n",
    "    overlay = gpd.GeoSeries(geometry).to_json()\n",
    "    folium.GeoJson(overlay, name = 'boundary').add_to(m)\n",
    "    \n",
    "    return m\n",
    "\n",
    "# выводим центроиды полигонов\n",
    "def get_lat_lon(geometry):\n",
    "        \n",
    "    lon = geometry.apply(lambda x: x.x if x.type == 'Point' else x.centroid.x)\n",
    "    lat = geometry.apply(lambda x: x.y if x.type == 'Point' else x.centroid.y)\n",
    "    return lat, lon\n",
    "  \n",
    "# выгрузим границы Краснодара из OSM\n",
    "cities = ['Архангельск']\n",
    "polygon_krd = ox.geometries_from_place(cities, {'boundary':'administrative'}).reset_index()\n",
    "polygon_krd = polygon_krd[(polygon_krd['name'] == 'Архангельск')]\n",
    "# посмотрим что получилось\n",
    "visualize_polygons(polygon_krd['geometry'])"
   ]
  },
  {
   "cell_type": "code",
   "execution_count": null,
   "metadata": {},
   "outputs": [],
   "source": []
  }
 ],
 "metadata": {
  "kernelspec": {
   "display_name": "Python 3 (ipykernel)",
   "language": "python",
   "name": "python3"
  },
  "language_info": {
   "codemirror_mode": {
    "name": "ipython",
    "version": 3
   },
   "file_extension": ".py",
   "mimetype": "text/x-python",
   "name": "python",
   "nbconvert_exporter": "python",
   "pygments_lexer": "ipython3",
   "version": "3.9.5"
  }
 },
 "nbformat": 4,
 "nbformat_minor": 1
}
